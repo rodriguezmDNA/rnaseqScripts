{
 "cells": [
  {
   "cell_type": "markdown",
   "metadata": {},
   "source": [
    "# Scripts for the Analysis of RNASeq data"
   ]
  },
  {
   "cell_type": "markdown",
   "metadata": {},
   "source": [
    "This is a work in progress.\n",
    "\n",
    "github: rodriguezmDNA "
   ]
  },
  {
   "cell_type": "markdown",
   "metadata": {},
   "source": [
    "How to use this pipeline?\n",
    "\n",
    "There are some scripts for the analysis of RNA seq data. In the future I will add some other functionalities and wrappers for other mapping software (bwa, STAR).\n"
   ]
  },
  {
   "cell_type": "code",
   "execution_count": 1,
   "metadata": {
    "collapsed": false
   },
   "outputs": [
    {
     "name": "stdout",
     "output_type": "stream",
     "text": [
      "01a_QCraw.sh\r\n",
      "01b_readTrim.sh\r\n",
      "01c_QCtrim.sh\r\n",
      "02a.GetLibrarySizes.sh\r\n",
      "02b.plotLibrarySizes.R\r\n",
      "03a_makeBowtieIndex.sh\r\n",
      "03b_bowtieMapping.sh\r\n",
      "03c_BowtieAlignmentStats.R\r\n",
      "04a_annotationHTSeq.sh\r\n",
      "04b_countsFromcDNAMapping.sh\r\n",
      "04c_makeItCount.R\r\n",
      "04d_GenomicAlignments_count_genomeMapReads.R\r\n",
      "GOSeq.R\r\n",
      "RNASeq_Analysis_Pipeline.ipynb\r\n",
      "functions_jrm.R\r\n",
      "metaFunctions_forNetworkAnalysis.R\r\n",
      "wip_02c_DeduplicatedPercentage.sh\r\n",
      "zCodeHere.sh\r\n"
     ]
    }
   ],
   "source": [
    "ls Scripts"
   ]
  },
  {
   "cell_type": "markdown",
   "metadata": {
    "collapsed": true,
    "variables": {
     "bowtie": "No index, query, or output file specified!\nUsage: \nbowtie [options]* <ebwt> {-1 <m1> -2 <m2> | --12 <r> | --interleaved <i> | <s>} [<hit>]"
    }
   },
   "source": [
    "You need to have the following programs installed in your path. \n",
    "\n",
    "* fastqc - For quality control.\n",
    "* fastx_trimmer - For trimming barcodes.\n",
    "* reaper - For cleaning reads.\n",
    "* bowtie or bowtie2 - For alignment.\n",
    "* htseq-count - For annotating reads (when mapping to a reference genome).\n"
   ]
  },
  {
   "cell_type": "markdown",
   "metadata": {},
   "source": [
    "### Folder Organization\n",
    "\n",
    "The scripts are pretty flexible but I left some options hardcoded (like the names of the input and output directories). You can modify these at your own risk.\n",
    "\n",
    "__Recommended organization__\n",
    "\n",
    "* `Scripts/` - Where the scripts \n",
    "* `RawData/` - Where the sequences live (with either `.fq` or `.fastq` suffix). The scripts assume data is gzipped. \n",
    "    > `RawData/file.f*q.gz`\n",
    "\n",
    "As you run the scripts folders will be created. A `log` folder is created for each and the output plus other information is recorded in log files. Some of them are necessary for stats about the analysis (like percentage of uniquely aligned reads)."
   ]
  },
  {
   "cell_type": "markdown",
   "metadata": {},
   "source": [
    "### Quality Control (before Processing)\n",
    "\n",
    "Run the `01a_QCraw.sh`. This will create the `00_QC` directory and the `a_RawQC` subfolder with the results of quality  analysis on raw reads.\n",
    "\n",
    "fastqc will create html files with the summary on the quality of the reads. I like to do the analysis before and after trimming to compare the outputs and in case there's some contaminant (adapter sequence) I'm missing I can include it on the trimming script."
   ]
  },
  {
   "cell_type": "code",
   "execution_count": 51,
   "metadata": {
    "collapsed": false
   },
   "outputs": [
    {
     "name": "stdout",
     "output_type": "stream",
     "text": [
      "\r\n",
      "\r\n",
      "Started on Fri Oct  6 11:17:44 PDT 2017\r\n",
      "\r\n",
      "/Users/jrm/Desktop/deleteThis/Scripts/../RawData/test1.fq.gz\r\n",
      "Started analysis of test1.fq.gz\r\n",
      "Approx 10% complete for test1.fq.gz\r\n",
      "Approx 20% complete for test1.fq.gz\r\n",
      "Approx 30% complete for test1.fq.gz\r\n",
      "Approx 40% complete for test1.fq.gz\r\n",
      "Approx 50% complete for test1.fq.gz\r\n",
      "Approx 60% complete for test1.fq.gz\r\n",
      "Approx 70% complete for test1.fq.gz\r\n",
      "Approx 80% complete for test1.fq.gz\r\n",
      "Approx 90% complete for test1.fq.gz\r\n",
      "Approx 100% complete for test1.fq.gz\r\n",
      "/Users/jrm/Desktop/deleteThis/Scripts/../RawData/test2.fq.gz\r\n",
      "Started analysis of test2.fq.gz\r\n",
      "Approx 10% complete for test2.fq.gz\r\n",
      "Approx 20% complete for test2.fq.gz\r\n",
      "Approx 30% complete for test2.fq.gz\r\n",
      "Approx 40% complete for test2.fq.gz\r\n",
      "Approx 50% complete for test2.fq.gz\r\n",
      "Approx 60% complete for test2.fq.gz\r\n",
      "Approx 70% complete for test2.fq.gz\r\n",
      "Approx 80% complete for test2.fq.gz\r\n",
      "Approx 90% complete for test2.fq.gz\r\n",
      "Approx 100% complete for test2.fq.gz\r\n",
      "\r\n",
      "Parameters used: fastqc file --extract -o ToDir\r\n",
      "\r\n",
      " execution time was 20 s.\r\n",
      "\r\n",
      " Done Fri Oct  6 11:18:04 PDT 2017\r\n"
     ]
    }
   ],
   "source": [
    "Scripts/01a_QCraw.sh"
   ]
  },
  {
   "cell_type": "markdown",
   "metadata": {},
   "source": [
    "### Trim Reads \n",
    "\n",
    "Use `01b_readTrim.sh -h` to get help on the script.\n",
    "\n",
    "This has two modes, just trim barcodes (with fastx_trimmer) or couple with reaper to trim and remove low qual parts and adapter contamination. \n",
    "\n",
    "Check more possible adapters here: https://support.illumina.com/content/dam/illumina-support/documents/documentation/chemistry_documentation/experiment-design/illumina-adapter-sequences-1000000002694-02.pdf"
   ]
  },
  {
   "cell_type": "code",
   "execution_count": 25,
   "metadata": {
    "collapsed": false
   },
   "outputs": [
    {
     "name": "stdout",
     "output_type": "stream",
     "text": [
      "Wrapper to trim and clean RNASeq data.\r\n",
      "Usage: Scripts/01b_readTrim.sh [options...] \r\n",
      "\r\n",
      "\r\n",
      "\r\n",
      "   -h            this useful help\r\n",
      "   -m            mode: A) Barcode removal (First n bp)\r\n",
      "                       B) Barcode & trim (Uses reaper)\r\n",
      "   -n           length of barcode (removes first n bases).\r\n",
      "                ie -n 9 will remove the first 8bp.\r\n",
      "                Default value: 1; Use 8 for processing BRAD-Seq data\r\n",
      "   -t           tabu sequence - See reaper documentation \r\n"
     ]
    }
   ],
   "source": [
    "# Get help:\n",
    "Scripts/01b_readTrim.sh -h | head"
   ]
  },
  {
   "cell_type": "code",
   "execution_count": 52,
   "metadata": {
    "collapsed": false
   },
   "outputs": [
    {
     "name": "stdout",
     "output_type": "stream",
     "text": [
      "\r\n",
      "Reading meta/reaperArguments.txt\r\n",
      "\r\n",
      "\r\n",
      "Started on Fri Oct  6 11:22:24 PDT 2017\r\n",
      "Trimming option B\r\n",
      "C. Remove barcodes and adapters. Trim reads based on quality and complexity [fastx & reaper]\r\n",
      "\r\n",
      "Trimming test1.fq.gz\r\n",
      "B. Remove barcodes and adapters. Trim reads based on quality and complexity [fastx & reaper]\r\n",
      "Using GATCGGAAGAGCACACGTCTGAACTCCAGTCAC as tabu sequences\r\n",
      "Using ATCTCGTATGCCGTCTTCTGCTTG as adapter sequences\r\n",
      "adapter ATCTCGTATGCCGTCTTC\r\n",
      "---\r\n",
      "mRpm   million reads per minute\r\n",
      "mNpm   million nucleotides per minute\r\n",
      "mCps   million alignment cells per second\r\n",
      "lint   total removed reads (per 10K), sum of columns to the left\r\n",
      "25K reads per dot, 1M reads per line  seconds  mr mRpm mNpm mCps {error qc  low  len  NNN tabu nobc cflr  cfl lint   OK} per 10K\r\n",
      "Trimming: base 10 to 0\r\n",
      "Input: 10000 reads.\r\n",
      "Output: 10000 reads.\r\n",
      "\r\n",
      "[reaper] check 0 errors, 0 reads truncated, 9291 clean, 709 lint, 10000 total\r\n",
      "\r\n",
      " ----------------------------------------------------------\r\n",
      "Trimming test2.fq.gz\r\n",
      "B. Remove barcodes and adapters. Trim reads based on quality and complexity [fastx & reaper]\r\n",
      "Using GATCGGAAGAGCACACGTCTGAACTCCAGTCAC as tabu sequences\r\n",
      "Using ATCTCGTATGCCGTCTTCTGCTTG as adapter sequences\r\n",
      "adapter ATCTCGTATGCCGTCTTC\r\n",
      "---\r\n",
      "mRpm   million reads per minute\r\n",
      "mNpm   million nucleotides per minute\r\n",
      "mCps   million alignment cells per second\r\n",
      "lint   total removed reads (per 10K), sum of columns to the left\r\n",
      "25K reads per dot, 1M reads per line  seconds  mr mRpm mNpm mCps {error qc  low  len  NNN tabu nobc cflr  cfl lint   OK} per 10K\r\n",
      "Trimming: base 10 to 0\r\n",
      "Input: 10000 reads.\r\n",
      "Output: 10000 reads.\r\n",
      "\r\n",
      "[reaper] check 0 errors, 0 reads truncated, 9496 clean, 504 lint, 10000 total\r\n",
      "\r\n",
      " ----------------------------------------------------------\r\n",
      "\r\n",
      "Parameters used:  \r\n",
      "\r\n",
      " execution time was 1 s.\r\n",
      "\r\n",
      " Done Fri Oct  6 11:22:25 PDT 2017\r\n"
     ]
    }
   ],
   "source": [
    "# Run\n",
    "Scripts/01b_readTrim.sh -m B -n 10 -p meta/reaperArguments.txt"
   ]
  },
  {
   "cell_type": "markdown",
   "metadata": {},
   "source": [
    "### Quality Control (after trimming)\n",
    "\n",
    "Run the `01c_QCtrim.sh`. This will create the `00_QC` directory (if it doesn't exists already) and the `b_trimQC` subfolder with the results of quality analysis on trimmed reads."
   ]
  },
  {
   "cell_type": "code",
   "execution_count": 53,
   "metadata": {
    "collapsed": false
   },
   "outputs": [
    {
     "name": "stdout",
     "output_type": "stream",
     "text": [
      "\r\n",
      "Started on Fri Oct  6 11:22:36 PDT 2017\r\n",
      "\r\n",
      "/Users/jrm/Desktop/deleteThis/Scripts/../01_trimmed/test1.fq.gz.lane.clean.gz\r\n",
      "Started analysis of test1.fq.gz.lane.clean.gz\r\n",
      "Approx 10% complete for test1.fq.gz.lane.clean.gz\r\n",
      "Approx 20% complete for test1.fq.gz.lane.clean.gz\r\n",
      "Approx 30% complete for test1.fq.gz.lane.clean.gz\r\n",
      "Approx 40% complete for test1.fq.gz.lane.clean.gz\r\n",
      "Approx 50% complete for test1.fq.gz.lane.clean.gz\r\n",
      "Approx 60% complete for test1.fq.gz.lane.clean.gz\r\n",
      "Approx 75% complete for test1.fq.gz.lane.clean.gz\r\n",
      "Approx 85% complete for test1.fq.gz.lane.clean.gz\r\n",
      "Approx 95% complete for test1.fq.gz.lane.clean.gz\r\n",
      "/Users/jrm/Desktop/deleteThis/Scripts/../01_trimmed/test2.fq.gz.lane.clean.gz\r\n",
      "Started analysis of test2.fq.gz.lane.clean.gz\r\n",
      "Approx 10% complete for test2.fq.gz.lane.clean.gz\r\n",
      "Approx 20% complete for test2.fq.gz.lane.clean.gz\r\n",
      "Approx 30% complete for test2.fq.gz.lane.clean.gz\r\n",
      "Approx 40% complete for test2.fq.gz.lane.clean.gz\r\n",
      "Approx 50% complete for test2.fq.gz.lane.clean.gz\r\n",
      "Approx 60% complete for test2.fq.gz.lane.clean.gz\r\n",
      "Approx 70% complete for test2.fq.gz.lane.clean.gz\r\n",
      "Approx 80% complete for test2.fq.gz.lane.clean.gz\r\n",
      "Approx 95% complete for test2.fq.gz.lane.clean.gz\r\n",
      "\r\n",
      "Parameters used: fastqc file --extract -o ToDir\r\n",
      "\r\n",
      " execution time was 19 s.\r\n",
      "\r\n",
      " Done Fri Oct  6 11:22:55 PDT 2017\r\n"
     ]
    }
   ],
   "source": [
    "Scripts/01c_QCtrim.sh"
   ]
  },
  {
   "cell_type": "markdown",
   "metadata": {},
   "source": [
    "## Library Sizes\n",
    "\n",
    "The `02a.GetLibrarySizes.sh`script will calculate the sizes (number of sequence reads) of raw and processed files; the  `02b.plotLibrarySizes.R` Rscript creates figures and tables.\n"
   ]
  },
  {
   "cell_type": "code",
   "execution_count": 70,
   "metadata": {
    "collapsed": false
   },
   "outputs": [
    {
     "name": "stdout",
     "output_type": "stream",
     "text": [
      "\r\n",
      "Started on Fri Oct  6 11:39:15 PDT 2017\r\n",
      "\r\n",
      "Processing raw files\r\n",
      "test1 10000\r\n",
      "test2 10000\r\n",
      "Processing trimmed files\r\n",
      "test1.fq.gz 9291\r\n",
      "test2.fq.gz 9496\r\n",
      "\r\n",
      " execution time was 0 s.\r\n",
      "\r\n",
      " Done Fri Oct  6 11:39:15 PDT 2017\r\n"
     ]
    }
   ],
   "source": [
    "Scripts/02a.GetLibrarySizes.sh"
   ]
  },
  {
   "cell_type": "code",
   "execution_count": 75,
   "metadata": {
    "collapsed": false
   },
   "outputs": [
    {
     "name": "stdout",
     "output_type": "stream",
     "text": [
      "null device \r\n",
      "          1 \r\n"
     ]
    }
   ],
   "source": [
    "Rscript Scripts/02b.plotLibrarySizes.R;\n",
    "open images/Raw_and_Trimmed_LibrariesSize.pdf"
   ]
  },
  {
   "cell_type": "markdown",
   "metadata": {},
   "source": [
    "<object data=\"images/Raw_and_Trimmed_LibrariesSize.pdf\" type=\"application/pdf\" width=\"300\" height=\"200\">\n",
    "<a href=\"images/Raw_and_Trimmed_LibrariesSize.pdf\">test.pdf</a>\n",
    "</object>"
   ]
  },
  {
   "cell_type": "markdown",
   "metadata": {},
   "source": [
    "## Alignment\n",
    "\n",
    "\n",
    "### Build index\n",
    "\n",
    "Run the `03a_makeBowtieIndex.sh -h` to see how the script works help. \n",
    "\n",
    "You need a fasta file with either genome or cDNA information of your favourite organism to use as a reference and select a version of bowtie (1 or 2). This depends on the length of the sequencing reads. Depending on the bowtie version and reference used the output folders will be named differently but they're contained within a `RefIdx` folder. \n",
    "\n",
    "For short reads < 50bp bowtie 1 is recommended; for longer reads, use bowtie 2. \n",
    "\n",
    "Valid examples to call the script are: \n",
    "\n",
    "> `Scripts/03a_makeBowtieIndex.sh -v bwt1 -g meta/genome_ath_TAIRv10.fa -c meta/cdna_ath_TAIRv10.fa` <br>\n",
    "> `Scripts/03a_makeBowtieIndex.sh -v bwt1 -g meta/genome_ath_TAIRv10.fa` <br>\n",
    "> `Scripts/03a_makeBowtieIndex.sh -v bwt1 -c meta/cdna_ath_TAIRv10.fa` <br>\n",
    "\n",
    "__Attention__: If you run the script with the -s option and assign a suffix, you must use the same name in the alignment script to call the appropriate index when aligning trimmed reads. The default suffix is 'ref' which isn't very informative. \n",
    "\n",
    "\n",
    "\n",
    "(This might take some time...)\n",
    "\n",
    "### Align the clean reads\n",
    "\n",
    "Use `Scripts/03b_bowtieMapping.sh -h` to see the help. "
   ]
  },
  {
   "cell_type": "code",
   "execution_count": 54,
   "metadata": {
    "collapsed": false
   },
   "outputs": [
    {
     "name": "stdout",
     "output_type": "stream",
     "text": [
      "\r\n",
      "\r\n",
      "bwParams -a --best --strata -n 1 -m 1 -p 4 --sam --tryhard\r\n",
      "\r\n",
      "\r\n",
      "Started on Fri Oct  6 11:27:38 PDT 2017\r\n",
      "\r\n",
      "Genome\r\n",
      "running bow1\r\n",
      "Align with bowtie 1 \r\n",
      "\r\n",
      "test1.fq.gz\r\n",
      "# reads processed: 9291\r\n",
      "# reads with at least one reported alignment: 7122 (76.65%)\r\n",
      "# reads that failed to align: 1846 (19.87%)\r\n",
      "# reads with alignments suppressed due to -m: 323 (3.48%)\r\n",
      "Reported 7122 alignments to 1 output stream(s)\r\n",
      "test2.fq.gz\r\n",
      "# reads processed: 9496\r\n",
      "# reads with at least one reported alignment: 6616 (69.67%)\r\n",
      "# reads that failed to align: 1702 (17.92%)\r\n",
      "# reads with alignments suppressed due to -m: 1178 (12.41%)\r\n",
      "Reported 6616 alignments to 1 output stream(s)\r\n",
      "\r\n",
      "Parameters used: -a --best --strata -n 1 -m 1 -p 4 --sam --tryhard \r\n",
      "\r\n",
      " execution time was 2 s.\r\n",
      "\r\n",
      " Done Fri Oct  6 11:27:40 PDT 2017\r\n"
     ]
    }
   ],
   "source": [
    "# Mapping to the genome\n",
    "Scripts/03b_bowtieMapping.sh -v bwt1 -r genome -a meta/bow1Args.txt"
   ]
  },
  {
   "cell_type": "code",
   "execution_count": 55,
   "metadata": {
    "collapsed": false
   },
   "outputs": [
    {
     "name": "stdout",
     "output_type": "stream",
     "text": [
      "\r\n",
      "\r\n",
      "Bowtie parameters are empty, using default parameters\r\n",
      "bwParams -a --best --strata -n 1 -m 1 -p 4 --sam --tryhard\r\n",
      "\r\n",
      "\r\n",
      "Started on Fri Oct  6 11:27:45 PDT 2017\r\n",
      "\r\n",
      "cDNA\r\n",
      "running bow1\r\n",
      "Align with bowtie 1 \r\n",
      "\r\n",
      "test1.fq.gz\r\n",
      "# reads processed: 9291\r\n",
      "# reads with at least one reported alignment: 7905 (85.08%)\r\n",
      "# reads that failed to align: 1020 (10.98%)\r\n",
      "# reads with alignments suppressed due to -m: 366 (3.94%)\r\n",
      "Reported 7905 alignments to 1 output stream(s)\r\n",
      "test2.fq.gz\r\n",
      "# reads processed: 9496\r\n",
      "# reads with at least one reported alignment: 7379 (77.71%)\r\n",
      "# reads that failed to align: 1029 (10.84%)\r\n",
      "# reads with alignments suppressed due to -m: 1088 (11.46%)\r\n",
      "Reported 7379 alignments to 1 output stream(s)\r\n",
      "\r\n",
      "Parameters used: -a --best --strata -n 1 -m 1 -p 4 --sam --tryhard --norc\r\n",
      "\r\n",
      " execution time was 3 s.\r\n",
      "\r\n",
      " Done Fri Oct  6 11:27:48 PDT 2017\r\n"
     ]
    }
   ],
   "source": [
    "# Mapping to the transcriptome with default options\n",
    "Scripts/03b_bowtieMapping.sh -v bwt1 -r cDNA "
   ]
  },
  {
   "cell_type": "markdown",
   "metadata": {},
   "source": [
    "### Mapping efficiency\n",
    "\n",
    "Bowtie outputs the fraction of reads that were uniquely aligned to the reference (also the fraction of non-mapped and supressed). The `03c_BowtieAlignmentStats.R` Rscript \n",
    "\n",
    "Choose one option: `cDNAbwt1`,`genomebwt1`,`genomebwt2`,`cDNAbwt2`. In the future I plan to make this as an input argument when calling the script, for now, edit the script so the appropriate data set will be analyzed."
   ]
  },
  {
   "cell_type": "code",
   "execution_count": 82,
   "metadata": {
    "collapsed": false
   },
   "outputs": [
    {
     "name": "stdout",
     "output_type": "stream",
     "text": [
      "[1] 2\r\n",
      "[1] \"logs/bowStats_genomebwt1/test1.fq.gz.log\"\r\n",
      "[2] \"logs/bowStats_genomebwt1/test2.fq.gz.log\"\r\n",
      "Doing Stats for Bowtie 1[1] \"logs/bowStats_genomebwt1/test1.fq.gz.log\"\r\n",
      "[1] \"logs/bowStats_genomebwt1/test2.fq.gz.log\"\r\n",
      "null device \r\n",
      "          1 \r\n"
     ]
    }
   ],
   "source": [
    "Rscript Scripts/03c_BowtieAlignmentStats.R; #With genomebwt1\n",
    "open images/MappingStats_genomebwt1.pdf"
   ]
  },
  {
   "cell_type": "code",
   "execution_count": 84,
   "metadata": {
    "collapsed": false
   },
   "outputs": [
    {
     "name": "stdout",
     "output_type": "stream",
     "text": [
      "[1] 2\r\n",
      "[1] \"logs/bowStats_cDNAbwt1/test1.fq.gz.log\"\r\n",
      "[2] \"logs/bowStats_cDNAbwt1/test2.fq.gz.log\"\r\n",
      "Doing Stats for Bowtie 1[1] \"logs/bowStats_cDNAbwt1/test1.fq.gz.log\"\r\n",
      "[1] \"logs/bowStats_cDNAbwt1/test2.fq.gz.log\"\r\n",
      "null device \r\n",
      "          1 \r\n"
     ]
    }
   ],
   "source": [
    "Rscript Scripts/03c_BowtieAlignmentStats.R; #With genomebwt1\n",
    "open images/MappingStats_cDNAbwt1.pdf"
   ]
  },
  {
   "cell_type": "markdown",
   "metadata": {},
   "source": [
    "### Annotation and Counts\n",
    "\n",
    "#### For genome alignments\n",
    "\n",
    "Use `Scripts/04a_annotationHTSeq.sh -h` to see the help. \n",
    "\n",
    "#### For cDNA alignments\n",
    "\n",
    "Use `Scripts/04b_countsFromcDNAMapping.sh -h` to see the help. "
   ]
  },
  {
   "cell_type": "code",
   "execution_count": 56,
   "metadata": {
    "collapsed": false
   },
   "outputs": [
    {
     "name": "stdout",
     "output_type": "stream",
     "text": [
      "\r\n",
      "\r\n",
      "\r\n",
      "\r\n",
      "Started on Fri Oct  6 11:27:53 PDT 2017\r\n",
      "\r\n",
      "Processing test1.fq.gz.bam\r\n",
      "100000 GFF lines processed.\r\n",
      "200000 GFF lines processed.\r\n",
      "300000 GFF lines processed.\r\n",
      "400000 GFF lines processed.\r\n",
      "500000 GFF lines processed.\r\n",
      "600000 GFF lines processed.\r\n",
      "656309 GFF lines processed.\r\n",
      "7122 SAM alignments  processed.\r\n",
      "\r\n",
      "Processing test2.fq.gz.bam\r\n",
      "100000 GFF lines processed.\r\n",
      "200000 GFF lines processed.\r\n",
      "300000 GFF lines processed.\r\n",
      "400000 GFF lines processed.\r\n",
      "500000 GFF lines processed.\r\n",
      "600000 GFF lines processed.\r\n",
      "656309 GFF lines processed.\r\n",
      "6616 SAM alignments  processed.\r\n",
      "\r\n",
      "\r\n",
      "\r\n",
      "\r\n",
      "\r\n",
      "\r\n",
      "\r\n",
      "Parameters used: -f sam --stranded yes --mode intersection-strict --idattr ID --type gene meta/TAIR10_withTransposons.gff\r\n",
      "\r\n",
      " execution time was 28 s.\r\n",
      "\r\n",
      " Done Fri Oct  6 11:28:21 PDT 2017\r\n"
     ]
    }
   ],
   "source": [
    "Scripts/04a_annotationHTSeq.sh -v bwt1 -a meta/TAIR10_withTransposons.gff -p meta/htseqArgs.txt"
   ]
  },
  {
   "cell_type": "code",
   "execution_count": 60,
   "metadata": {
    "collapsed": false
   },
   "outputs": [
    {
     "name": "stdout",
     "output_type": "stream",
     "text": [
      "\r\n",
      "\r\n",
      "Started on Fri Oct  6 11:34:41 PDT 2017\r\n",
      "\r\n",
      "Processing test1.fq.gz.bam\r\n",
      "\r\n",
      "Processing test2.fq.gz.bam\r\n",
      "\r\n",
      "\r\n",
      "Parameters used:  \r\n",
      "\r\n",
      " execution time was 0 s.\r\n",
      "\r\n",
      " Done Fri Oct  6 11:34:41 PDT 2017\r\n"
     ]
    }
   ],
   "source": [
    "Scripts/04b_countsFromcDNAMapping.sh -v bwt1"
   ]
  },
  {
   "cell_type": "code",
   "execution_count": 62,
   "metadata": {
    "cell_style": "split",
    "collapsed": false
   },
   "outputs": [
    {
     "name": "stdout",
     "output_type": "stream",
     "text": [
      "==> 04_Counts/bwt1_cDNA/test1.fq.gz.counts.txt <==\r\n",
      "AT1G01560.2 1\r\n",
      "AT1G01710.1 2\r\n",
      "AT1G01720.1 3\r\n",
      "AT1G01730.1 2\r\n",
      "AT1G02080.1 1\r\n",
      "AT1G02100.3 1\r\n",
      "AT1G02220.1 8\r\n",
      "AT1G02360.1 1\r\n",
      "AT1G02500.1 1\r\n",
      "AT1G02780.1 1\r\n",
      "\r\n",
      "==> 04_Counts/bwt1_cDNA/test2.fq.gz.counts.txt <==\r\n",
      "AT1G01120.1 1\r\n",
      "AT1G01140.3 1\r\n",
      "AT1G01360.1 1\r\n",
      "AT1G01470.1 1\r\n",
      "AT1G01550.1 2\r\n",
      "AT1G01720.1 9\r\n",
      "AT1G01820.1 1\r\n",
      "AT1G01940.1 1\r\n",
      "AT1G01960.1 1\r\n",
      "AT1G02080.1 2\r\n",
      "\r\n",
      "==> 04_Counts/bwt1_genome/htseqraw <==\r\n",
      "head: Error reading 04_Counts/bwt1_genome/htseqraw\r\n",
      "\r\n",
      "==> 04_Counts/bwt1_genome/test1.fq.gz.counts.txt <==\r\n",
      "AT1G01010\t0\r\n",
      "AT1G01020\t0\r\n",
      "AT1G01030\t0\r\n",
      "AT1G01040\t0\r\n",
      "AT1G01046\t0\r\n",
      "AT1G01050\t0\r\n",
      "AT1G01060\t0\r\n",
      "AT1G01070\t0\r\n",
      "AT1G01073\t0\r\n",
      "AT1G01080\t0\r\n",
      "\r\n",
      "==> 04_Counts/bwt1_genome/test2.fq.gz.counts.txt <==\r\n",
      "AT1G01010\t0\r\n",
      "AT1G01020\t0\r\n",
      "AT1G01030\t0\r\n",
      "AT1G01040\t0\r\n",
      "AT1G01046\t0\r\n",
      "AT1G01050\t0\r\n",
      "AT1G01060\t0\r\n",
      "AT1G01070\t0\r\n",
      "AT1G01073\t0\r\n",
      "AT1G01080\t0\r\n"
     ]
    }
   ],
   "source": [
    "head 04_Counts/bwt1_*/*"
   ]
  },
  {
   "cell_type": "code",
   "execution_count": 67,
   "metadata": {
    "cell_style": "split",
    "collapsed": false
   },
   "outputs": [
    {
     "name": "stdout",
     "output_type": "stream",
     "text": [
      "04_Counts/bwt1_cDNA/test1.fq.gz.counts.txt:AT1G01720.1 3\r\n",
      "04_Counts/bwt1_cDNA/test2.fq.gz.counts.txt:AT1G01720.1 9\r\n",
      "04_Counts/bwt1_genome/test1.fq.gz.counts.txt:AT1G01720\t0\r\n",
      "04_Counts/bwt1_genome/test2.fq.gz.counts.txt:AT1G01720\t0\r\n"
     ]
    }
   ],
   "source": [
    "grep \"AT1G01720\" 04_Counts/bwt1_cDNA/test*\n",
    "grep \"AT1G01720\" 04_Counts/bwt1_genome/test*"
   ]
  },
  {
   "cell_type": "markdown",
   "metadata": {},
   "source": [
    "### Matrix of Counts\n",
    "\n",
    "From either the genome or cDNA alignemnts and counts generated the `04c_makeItCount.R` script will create a matrix of counts. The script makes sure that the rows (gene names) are the same between files and that columns are in the correct order.\n",
    "\n",
    "Two options can be selected in the Script. I plan to make it to accept arguments, but for the moment open the script and comment one of the following options:\n",
    "\n",
    "> `option=\"bwt1_cDNA\"` <br>\n",
    "> `option=\"bwt1_genome\"` <br>"
   ]
  },
  {
   "cell_type": "code",
   "execution_count": 79,
   "metadata": {
    "collapsed": false
   },
   "outputs": [
    {
     "name": "stdout",
     "output_type": "stream",
     "text": [
      "Warning message:\r\n",
      "In dir.create(imgPath) : 'images' already exists\r\n",
      "[1] \"test1.fq.gz.counts.txt\" \"test2.fq.gz.counts.txt\"\r\n",
      "-- make condenseListTables \r\n",
      "Filling table: test1.fq.gz.counts.txt \r\n",
      "Filling table: test2.fq.gz.counts.txt \r\n",
      "-- Condense table done \r\n",
      "\r\n",
      "          test1.fq.gz test2.fq.gz\r\n",
      "AT1G01010           0           0\r\n",
      "AT1G01020           0           0\r\n",
      "AT1G01030           0           0\r\n",
      "AT1G01040           0           0\r\n",
      "AT1G01046           0           0\r\n",
      "AT1G01050           0           0\r\n",
      "[1] 28775     2\r\n",
      "Plotting htseq stats \r\n",
      "Error in `colnames<-`(`*tmp*`, value = c(\"test1.fq.gz\", \"test2.fq.gz\")) : \r\n",
      "  attempt to set 'colnames' on an object with less than two dimensions\r\n",
      "Execution halted\r\n"
     ]
    }
   ],
   "source": [
    "Rscript Scripts/04c_makeItCount.R #With option=\"bwt1_genome\""
   ]
  },
  {
   "cell_type": "code",
   "execution_count": 77,
   "metadata": {
    "collapsed": false
   },
   "outputs": [
    {
     "name": "stdout",
     "output_type": "stream",
     "text": [
      "Warning message:\r\n",
      "In dir.create(imgPath) : 'images' already exists\r\n",
      "[1] \"test1.fq.gz.counts.txt\" \"test2.fq.gz.counts.txt\"\r\n",
      "-- make condenseListTables \r\n",
      "Filling table: test1.fq.gz.counts.txt \r\n",
      "Filling table: test2.fq.gz.counts.txt \r\n",
      "-- Condense table done \r\n",
      "\r\n",
      "            test1.fq.gz test2.fq.gz\r\n",
      "AT1G01560.2           1           0\r\n",
      "AT1G01710.1           2           0\r\n",
      "AT1G01720.1           3           9\r\n",
      "AT1G01730.1           2           0\r\n",
      "AT1G02080.1           1           2\r\n",
      "AT1G02100.3           1           0\r\n",
      "[1] 2452    2\r\n",
      "Skipping htseq stats \r\n",
      "[1] 2452    2\r\n",
      "Using Library as id variables\r\n",
      "null device \r\n",
      "          1 \r\n"
     ]
    }
   ],
   "source": [
    "Rscript Scripts/04c_makeItCount.R #With option=\"bwt1_cDNA\""
   ]
  },
  {
   "cell_type": "markdown",
   "metadata": {},
   "source": [
    "This script also produces images:"
   ]
  },
  {
   "cell_type": "code",
   "execution_count": 78,
   "metadata": {
    "collapsed": false
   },
   "outputs": [
    {
     "name": "stdout",
     "output_type": "stream",
     "text": []
    }
   ],
   "source": [
    "open images/count_stats_bwt1_cDNA.pdf"
   ]
  },
  {
   "cell_type": "code",
   "execution_count": null,
   "metadata": {
    "collapsed": true
   },
   "outputs": [],
   "source": []
  }
 ],
 "metadata": {
  "kernelspec": {
   "display_name": "Bash",
   "language": "bash",
   "name": "bash"
  },
  "language_info": {
   "codemirror_mode": "shell",
   "file_extension": ".sh",
   "mimetype": "text/x-sh",
   "name": "bash"
  }
 },
 "nbformat": 4,
 "nbformat_minor": 2
}
