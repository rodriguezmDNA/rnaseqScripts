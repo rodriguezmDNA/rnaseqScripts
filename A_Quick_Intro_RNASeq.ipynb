{
 "cells": [
  {
   "cell_type": "markdown",
   "metadata": {},
   "source": [
    "# A quick intro on RNASeq analysis\n",
    "\n",
    "(work in progress...)\n",
    "\n",
    "github rodriguezmDNA"
   ]
  },
  {
   "cell_type": "markdown",
   "metadata": {},
   "source": [
    "## Doing an RNAseq analysis pipeline from scratch\n",
    "\n",
    "I'll download some files for the genotypeXtreatment data and try different approaches.\n",
    "\n",
    "Files to use: \n",
    "    \n",
    "    * Col @ 1 and 10 mM\n",
    "    * SALK-012253 @ 1 and 10 mM (randomly selected) \n"
   ]
  },
  {
   "cell_type": "markdown",
   "metadata": {},
   "source": [
    "### 1. Quality Control on Raw Data.\n",
    "\n",
    "* This snippet gets library sizes for each file (number of reads in each library).\n",
    "\n",
    "> ``for n in RawData/*.fastq.gz; do touch rawLibSize.txt; tmp=`basename $n`; tmp=${tmp%.fastq.gz}; lNum=`gunzip -dc $n| grep \"@\" | wc -l`; echo $tmp $lNum >> rawLibSize.txt;done``\n",
    "\n",
    "\n",
    "Run fastqc on the data.\n",
    "\n",
    "> ``fastqc RawData/* --noextract --outdir 00a_qcRaw/``\n"
   ]
  },
  {
   "cell_type": "markdown",
   "metadata": {},
   "source": [
    "### 2. Data preprocessing.\n",
    "\n",
    "During RNASeq library preparation artificial DNA sequences are introduced such as adapters (for the sequencing process), barcodes (for multiplexing). Other sources of contamination can be sequencing of primer dimers.   "
   ]
  },
  {
   "cell_type": "markdown",
   "metadata": {},
   "source": [
    "**1 Barcode removal.** For this case barcodes have to be manually removed. <br>\n",
    "`fastx_trimmer` will be to remove the first 8bp. These appear due to the need for multiplexing. <br>\n",
    "\n",
    "Parameters used: \n",
    "\n",
    "> ``-v -f 9 -Q33``\n",
    "\n",
    "* -v: Verbose\n",
    "* -f 9: First base to keep. This means first 8 bases are discarded.\n",
    "* -Q 33: Only keep sequences with a min. quality (phred) score (33) \n",
    "\n",
    "<hr>"
   ]
  },
  {
   "cell_type": "markdown",
   "metadata": {},
   "source": [
    "**On adapters.**\n",
    "\n",
    "3' adapters must be trimmed to avoid introducing errors in subsequent RNAseq analysis (namely, during read alignment to the reference genome/transcriptome). If reads are long (>100bp) this step can be skipped.\n",
    "\n",
    "However for short reads (ie, 50bp) it is recommended to remove these adapter sequences.\n",
    "\n",
    "A useful tool to infer/test for adapter sequence in the data is `minion` from the Kraken suite. In short, it takes a FASTQ file and reads the first 2 million reads. It will try to infer the presence of 3' adapters or compare to a known (given) sequence to test for its presence.\n",
    "\n",
    "\n",
    "Test for the presence of an adapter. **\n",
    "\n",
    "`> minion search-adapter -i RawData/Col-1-1_S109_L006_R1_001.fastq.gz -adapter ATCTCGTATGCCGTCTTCTGCTTG`\n",
    "\n",
    "We can also visually se the adapter's location in the reads using `grep`: <br>\n",
    "\n",
    "`> gunzip -dc RawData/Col-1-1_S109_L006_R1_001.fastq.gz | grep \"ATCTCGTATGCCGTCTTCTGCTTG\" | wc -l` \n",
    "\n",
    "Finally, if we don't know (or are unsure about) the sequence of the adapter, minion can try to infer it for us:\n",
    "\n",
    "`> minion search-adapter -i RawData/Col-1-1_S109_L006_R1_001.fastq.gz`\n",
    "\n",
    "\n",
    "\n",
    "** List of probable adapters **\n",
    "\n",
    "* ATCTCGTATGCCGTCTTCTGCTTG (3' Small RNA)\n",
    "* CACACGTCTGAACTCCAG\n",
    "* GTGACTGGAGTTCAGACGTGTGCTCTTCCGATC (From the BRAD-Seq paper, matches TruSeq Ribo Profile)\n",
    "* AGATCGGAAGAGCACACGTCT  (TruSeq Ribo Profile, 3' Adapter)\n",
    "* AATGATACGGCGACCACCGAGATCTACACTCTTTCCCTACACGACGCTCTTCCGATCT Universal Adapter\n",
    "\n",
    "\n",
    "\\** The adapter was taken from a list of [Illumina adapter sequences](https://support.illumina.com/content/dam/illumina-support/documents/documentation/chemistry_documentation/experiment-design/illumina-adapter-sequences_1000000002694-01.pdf) and corresponds to the _Small RNA 3' Adapter_ sequence.\n",
    "\n",
    "<hr>\n",
    "\n"
   ]
  },
  {
   "cell_type": "markdown",
   "metadata": {},
   "source": [
    "**2 Trim reads.**\n",
    "There are many approaches to trim reads (trimmomatic, fastx_clipper). The one I find more comprehensive is `Reaper`, also from the Kraken suite.\n",
    "\n",
    "Logic: Decompress file to stdout, remove first 8bp (barcode) with fastx_trimmer, use reaper to remove the adapter sequence. \n",
    "\n",
    "Test differnt adapter sequences, ie:\n",
    "> ``seqAdapt=\"AATGATACGGCGACCACCGAGATCTACACTCTTTCCCTACACGACGCTCTTCCGATCT\"`` <br>\n",
    "\n",
    "<hr>\n",
    "\n",
    "I used this one:\n",
    "> ``seqAdapt=\"AGATCGGAAGAGCACACGTCT\"`` <br> \n",
    "\n",
    "Try this one: <br>  \n",
    "tabu=\"GATCGGAAGAGCACACGTCTGAACTCCAGTCAC\" #5'Adapter side from TruSeq Illumina\n",
    "seqAdapt=\"AGATCGGAAGAGCACACGTCT\" #3' Adapter from Illumina\n",
    "-- Results: Looks good, kmer content seems better distributed, not at the start of the read like previous.\n",
    "\n",
    "Or this one\n",
    "tabu=\"GATCGGAAGAGCACACGTCTGAACTCCAGTCAC\"\n",
    "seqAdapt=\"ATCTCGTATGCCGTCTTCTGCTTG\"        \n",
    "-- Results: Not as good as the previous one. More Kmers at the center.\n",
    "\n",
    "\n",
    "Or this one:\n",
    "> ``tabu=\"ATCTCGTATGCCGTCTTCTGCTTG\"\n",
    "> seqAdapt=\"AGATCGGAAGAGCACACGTCT\" #3' Adapter from Illumina``\n",
    "\n",
    "<br>\n",
    "\n",
    "> ``tabu=\"CAAGCAGAAGACGGCATACGAGAT\"\n",
    "> seqAdapt=\"GTGACTGGAGTTCAGACGTGTGCTCTTCCGATC\" #From BRADseq paper``\n",
    "\n",
    "\n",
    "Use this code for trimming barcode and adapters. \n",
    "\n",
    "\n",
    "> ``for n in RawData/Col-1-1*.fastq.gz; do tmp=`basename $n`; tmp=${tmp%.fastq.gz}; echo Doing $tmp; gunzip -dc $n | fastx_trimmer -v -f 9 -Q33 - | reaper -geom no-bc -tabu $tabu -3pa $seqAdapt -dust-suffix 6/ACTG -dust-suffix-late 6/ACTG -nnn-check 1/1 -qqq-check 35/10 -clean-length 30 --bcq-late -tri 20 -polya 5 --noqc -basename 01_trimmed/$tmp ;done``\n"
   ]
  },
  {
   "cell_type": "markdown",
   "metadata": {},
   "source": [
    "### 3. Quality Control after trimming.\n",
    "\n",
    "* This snippet gets library sizes for each file (number of reads in each library).\n",
    "\n",
    "> ``for n in 01_trimmed/*.lane.clean.gz; do touch cleanLibSize.txt; tmp=`basename $n`; tmp=${tmp%.fastq.gz}; lNum=`gunzip -dc $n| grep \"@\" | wc -l`; echo $tmp $lNum >> cleanLibSize.txt;done``\n",
    "\n",
    "\n",
    "Run fastqc on the data.\n",
    "\n",
    "> ``fastqc 01_trimmed/*.lane.clean.gz --noextract --outdir 00b_qcClean/``\n",
    "\n"
   ]
  },
  {
   "cell_type": "markdown",
   "metadata": {},
   "source": [
    "### Mapping\n",
    "\n",
    "Now it's time to align the reads to a reference. Whenever possible, use a genome reference to align. Alignment algorithms are optimized to perform better when aligning to the whole genome rather than the transcriptome.\n"
   ]
  },
  {
   "cell_type": "markdown",
   "metadata": {},
   "source": [
    "##### Bowtie testing\n",
    "\n",
    "Bowtie is one of the most widespread used aligners. It's fast and sensitive and can perform well on a desktop computer (unlike some mappers like STAR which requires ~30GB in RAM).\n",
    "\n",
    "* First we build the index:\n",
    "\n",
    "> ``bowtie-build meta/genome_ath_TAIRv10.fa athGenome/athbw1``\n"
   ]
  },
  {
   "cell_type": "markdown",
   "metadata": {},
   "source": [
    "Try different parameters:\n",
    "\n",
    "### Mapping\n",
    "\n",
    "Parameters used by Brad:\n",
    "> ``bowtie -a --best --strata -n 1 -m 1 -p 4 --sam --norc --tryhard $db $ARGV[0]  BOWTIEoutput_NewComp7M_SS_m1_ITAG500+500/$basename.sam ``\n",
    "\n",
    "* Normal bowtie mapping\n",
    "> `` for each in test/*.fq; do tmp=`basename $each`; tmp=${tmp%.fq}; echo $tmp; bowtie -a --best --strata -n 1 -m 1 -p 4 --sam --norc --tryhard genomeIndex/ath $each $tmp.sam 2>> log/$tmp.log; done``\n",
    "\n",
    "* Pass to samtools, filter by quality of mapping. Save as bam.\n",
    "\n",
    "> ``bowtie -a --best --strata -n 1 -m 1 -p 4 --sam --norc --tryhard genomeIndex/ath test/test.fq - 2> test.log | samtools view -h -q30 -b -S -o output.bam ``"
   ]
  },
  {
   "cell_type": "markdown",
   "metadata": {},
   "source": [
    "<hr>\n",
    "\n",
    "__Use this one:__\n",
    "\n",
    "> ``for each in 01_preProcessed/*.fq; do tmp=`basename $each`; tmp=${tmp%.fq}; echo $tmp; bowtie -a --best --strata -n 1 -m 1 -p 4 --sam --norc --tryhard genomeIndex/ath $each 2> logs/bowtielog/$tmp.log | samtools view -q30 -bS - -o 02_aligned/$tmp.bam; done``\n",
    "\n",
    "##-q30 ensures only the best alignment will be reported\n",
    "\n",
    "* Pass bowtie output in SAM format to samtools, sort and store as bam:\n",
    "\n",
    "> ``for each in 02_aligned/*.bam; do tmp=`basename $each`; tmp=${tmp%.bam}; echo $tmp; samtools sort $each 02_aligned/sorted/$tmp.sorted; done``"
   ]
  },
  {
   "cell_type": "markdown",
   "metadata": {},
   "source": [
    "<hr>\n",
    "**Bowtie 2 ** \n",
    "\n",
    "Generally recommended for longer reads ( >50bp)\n",
    "\n",
    "\n",
    "\n",
    "\n",
    "* Some guy tested different parameters (https://samnicholls.net/2016/12/24/bowtie2-metagenomes/) <br> \n",
    "> ``--local -D 20 -R 3 -L 3 -N 1 -p 8 --gbar 1 --mp 3`` <br>\n",
    "** Note, this is too slow. **\n",
    "\n",
    "\n",
    "    * From the bowtie2 manual:\n",
    "    * -R and -D are effort options:\n",
    "        * -D is the number of times that seed extensions (alignment attempts) can fail before giving up. **_'Increasing -D makes Bowtie 2 slower, but increases the likelihood that it will report the correct alignment for a read that aligns many places'_**\n",
    "        * -R number of times bowtie2 will try to re-seed reads with repetitive seeds.\n",
    "    * -L is the lenght of the seed to be aligned. For most forms of alignment in bowtie2, the default value is 20.\n",
    "    * -N is the number of mismatches allowed during seed alignment.\n",
    "\n",
    "> _Seed extension is an approach bowtie (and bowtie2) use to align a read. To narrow down the possiblities of finding a possible alignment, it takes a random substring of the read and finds a perfect match (or matches) in the index. Then extends the length of the read until it finds the region that better matches the read._\n",
    "\n",
    "\n",
    "* If data is strand specific use the flag ``--norc``\n",
    "\n",
    "* To avoid reads that didn't have a valid alignment use: ``--no-unal`` \n",
    "\n",
    "\n",
    "\n",
    "\n",
    "Try it out:\n",
    "> ``bowtie2 --norc -x ../athGenome/athbw2 --local -D 20 -R 3 -L 3 -N 1 -p 8 --gbar 1 --mp 3 --no-unal SALK-012253-1-1_S110_L006_R1_001.lane.clean -S bow2.out.sam``  (**Too slow**)\n",
    "\n",
    "The parameters are quite similar to the `--very-sensitive-local` alignment mode.\n",
    "> ``bowtie2 --norc -x ../athGenome/athbw2 --local --very-sensitive-local -p 4 --no-unal SALK-012253-1-1_S110_L006_R1_001.lane.clean -S bow2.out.sam``\n",
    "\n",
    "\n"
   ]
  },
  {
   "cell_type": "markdown",
   "metadata": {},
   "source": [
    "** About Quality of the Mapped Sequences ** \n",
    "\n",
    "http://davetang.org/muse/2011/09/14/mapping-qualities/"
   ]
  },
  {
   "cell_type": "markdown",
   "metadata": {},
   "source": [
    "** About Adapters ** \n",
    "\n",
    "http://tucf-genomics.tufts.edu/documents/protocols/TUCF_Understanding_Illumina_TruSeq_Adapters.pdf"
   ]
  },
  {
   "cell_type": "markdown",
   "metadata": {},
   "source": [
    "### References\n",
    "\n",
    "* Kraken Suite. https://www.ebi.ac.uk/research/enright/software/kraken\n",
    "* hannonlab.cshl.edu/fastx_toolkit/\n",
    "* https://support.illumina.com/content/dam/illumina-support/documents/documentation/chemistry_documentation/experiment-design/illumina-adapter-sequences_1000000002694-01.pdf"
   ]
  },
  {
   "cell_type": "code",
   "execution_count": null,
   "metadata": {
    "collapsed": true
   },
   "outputs": [],
   "source": []
  }
 ],
 "metadata": {
  "kernelspec": {
   "display_name": "Bash",
   "language": "bash",
   "name": "bash"
  },
  "language_info": {
   "codemirror_mode": "shell",
   "file_extension": ".sh",
   "mimetype": "text/x-sh",
   "name": "bash"
  }
 },
 "nbformat": 4,
 "nbformat_minor": 2
}
